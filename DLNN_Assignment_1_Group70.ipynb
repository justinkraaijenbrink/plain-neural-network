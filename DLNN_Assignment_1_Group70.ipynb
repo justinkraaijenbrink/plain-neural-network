{
 "cells": [
  {
   "cell_type": "markdown",
   "metadata": {},
   "source": [
    "## Assignment 1"
   ]
  },
  {
   "cell_type": "markdown",
   "metadata": {},
   "source": [
    "### Task 1\n",
    "* For each cloud calculate the center and the radius.\n",
    "    * The center is the average of all points from the cloud.\n",
    "    * The radius is the biggest distance between the center and point from the cloud"
   ]
  },
  {
   "cell_type": "code",
   "execution_count": 3,
   "metadata": {},
   "outputs": [],
   "source": [
    "import pandas as pd\n",
    "import numpy as np\n",
    "import matplotlib.pyplot as plt\n",
    "from scipy.spatial.distance import pdist, squareform\n",
    "from sklearn.metrics.pairwise import pairwise_distances\n",
    "import timeit\n",
    "import math\n",
    "# OLD\n",
    "from scipy.spatial import distance"
   ]
  },
  {
   "cell_type": "code",
   "execution_count": 4,
   "metadata": {},
   "outputs": [],
   "source": [
    "train_in = pd.read_csv('data/train_in.csv', header = None)\n",
    "train_out = pd.read_csv('data/train_out.csv', names = 'D', header = None)\n",
    "train = pd.concat([train_in, train_out], axis = 1)\n",
    "\n",
    "test_in = pd.read_csv('data/test_in.csv', header = None)\n",
    "test_out = pd.read_csv('data/test_out.csv', names = 'D', header = None)"
   ]
  },
  {
   "cell_type": "code",
   "execution_count": 43,
   "metadata": {
    "scrolled": true
   },
   "outputs": [],
   "source": [
    "centers = train.groupby('D').mean()\n",
    "counts = pd.DataFrame(train['D'].value_counts()).sort_index().rename(columns={\"D\": \"Counts\"})"
   ]
  },
  {
   "cell_type": "code",
   "execution_count": 629,
   "metadata": {},
   "outputs": [
    {
     "data": {
      "image/png": "[encoded data removed]",
      "text/plain": [
       "<Figure size 432x288 with 1 Axes>"
      ]
     },
     "metadata": {
      "needs_background": "light"
     },
     "output_type": "display_data"
    }
   ],
   "source": [
    "image = np.zeros((16,16))\n",
    "row = 4\n",
    "tmp = np.array(centers)\n",
    "for i in range(0,16):\n",
    "    for j in range(0,16):\n",
    "        pix = 16*i+j\n",
    "        image[i,j] = tmp[row, pix]\n",
    "plt.imshow(image, cmap = 'binary')\n",
    "plt.show()"
   ]
  },
  {
   "cell_type": "code",
   "execution_count": 4,
   "metadata": {},
   "outputs": [],
   "source": [
    "# OLD\n",
    "radius2 = []\n",
    "for i in range(0, 10):\n",
    "    X = train.loc[train['D'] == i]\n",
    "    X = X.drop(columns=['D'])\n",
    "    distances_2 = []\n",
    "    for j in range(len(X)):\n",
    "        distances_2.append(distance.euclidean(centers.iloc[i,:], X.iloc[j, :]))\n",
    "    radius2.append(max(distances_2))\n",
    "radius2 = pd.DataFrame(radius2, columns = ['Radius'], index = [list(range(0, 10))])"
   ]
  },
  {
   "cell_type": "code",
   "execution_count": 61,
   "metadata": {},
   "outputs": [
    {
     "data": {
      "text/html": [
       "<div>\n",
       "<style scoped>\n",
       "    .dataframe tbody tr th:only-of-type {\n",
       "        vertical-align: middle;\n",
       "    }\n",
       "\n",
       "    .dataframe tbody tr th {\n",
       "        vertical-align: top;\n",
       "    }\n",
       "\n",
       "    .dataframe thead th {\n",
       "        text-align: right;\n",
       "    }\n",
       "</style>\n",
       "<table border=\"1\" class=\"dataframe\">\n",
       "  <thead>\n",
       "    <tr style=\"text-align: right;\">\n",
       "      <th></th>\n",
       "      <th>Radius</th>\n",
       "    </tr>\n",
       "  </thead>\n",
       "  <tbody>\n",
       "    <tr>\n",
       "      <th>0</th>\n",
       "      <td>15.892930</td>\n",
       "    </tr>\n",
       "    <tr>\n",
       "      <th>1</th>\n",
       "      <td>9.481363</td>\n",
       "    </tr>\n",
       "    <tr>\n",
       "      <th>2</th>\n",
       "      <td>14.168754</td>\n",
       "    </tr>\n",
       "    <tr>\n",
       "      <th>3</th>\n",
       "      <td>14.744759</td>\n",
       "    </tr>\n",
       "    <tr>\n",
       "      <th>4</th>\n",
       "      <td>14.533522</td>\n",
       "    </tr>\n",
       "    <tr>\n",
       "      <th>5</th>\n",
       "      <td>14.451951</td>\n",
       "    </tr>\n",
       "    <tr>\n",
       "      <th>6</th>\n",
       "      <td>14.031518</td>\n",
       "    </tr>\n",
       "    <tr>\n",
       "      <th>7</th>\n",
       "      <td>14.908969</td>\n",
       "    </tr>\n",
       "    <tr>\n",
       "      <th>8</th>\n",
       "      <td>13.705782</td>\n",
       "    </tr>\n",
       "    <tr>\n",
       "      <th>9</th>\n",
       "      <td>16.138696</td>\n",
       "    </tr>\n",
       "  </tbody>\n",
       "</table>\n",
       "</div>"
      ],
      "text/plain": [
       "      Radius\n",
       "0  15.892930\n",
       "1   9.481363\n",
       "2  14.168754\n",
       "3  14.744759\n",
       "4  14.533522\n",
       "5  14.451951\n",
       "6  14.031518\n",
       "7  14.908969\n",
       "8  13.705782\n",
       "9  16.138696"
      ]
     },
     "execution_count": 61,
     "metadata": {},
     "output_type": "execute_result"
    }
   ],
   "source": [
    "radius = []\n",
    "for i in range(0, 10):\n",
    "    X = train.loc[train['D'] == i]\n",
    "    X = X.drop(columns=['D'])\n",
    "    \n",
    "    distances = pairwise_distances(centers, X)\n",
    "    \n",
    "    radius.append(max(distances[i]))\n",
    "\n",
    "radius = pd.DataFrame(radius, columns = ['Radius'], index = [list(range(0, 10))])\n",
    "radius"
   ]
  },
  {
   "cell_type": "code",
   "execution_count": 62,
   "metadata": {},
   "outputs": [
    {
     "data": {
      "text/html": [
       "<div>\n",
       "<style scoped>\n",
       "    .dataframe tbody tr th:only-of-type {\n",
       "        vertical-align: middle;\n",
       "    }\n",
       "\n",
       "    .dataframe tbody tr th {\n",
       "        vertical-align: top;\n",
       "    }\n",
       "\n",
       "    .dataframe thead tr th {\n",
       "        text-align: left;\n",
       "    }\n",
       "</style>\n",
       "<table border=\"1\" class=\"dataframe\">\n",
       "  <thead>\n",
       "    <tr>\n",
       "      <th></th>\n",
       "      <th>0</th>\n",
       "      <th>1</th>\n",
       "      <th>2</th>\n",
       "      <th>3</th>\n",
       "      <th>4</th>\n",
       "      <th>5</th>\n",
       "      <th>6</th>\n",
       "      <th>7</th>\n",
       "      <th>8</th>\n",
       "      <th>9</th>\n",
       "    </tr>\n",
       "  </thead>\n",
       "  <tbody>\n",
       "    <tr>\n",
       "      <th>0</th>\n",
       "      <td>0.000000</td>\n",
       "      <td>14.449608</td>\n",
       "      <td>9.334556</td>\n",
       "      <td>9.143734</td>\n",
       "      <td>10.769844</td>\n",
       "      <td>7.519296</td>\n",
       "      <td>8.154443</td>\n",
       "      <td>11.864555</td>\n",
       "      <td>9.907902</td>\n",
       "      <td>11.488875</td>\n",
       "    </tr>\n",
       "    <tr>\n",
       "      <th>1</th>\n",
       "      <td>14.449608</td>\n",
       "      <td>0.000000</td>\n",
       "      <td>10.125323</td>\n",
       "      <td>11.733233</td>\n",
       "      <td>10.173786</td>\n",
       "      <td>11.118800</td>\n",
       "      <td>10.614700</td>\n",
       "      <td>10.743154</td>\n",
       "      <td>10.086777</td>\n",
       "      <td>9.932094</td>\n",
       "    </tr>\n",
       "    <tr>\n",
       "      <th>2</th>\n",
       "      <td>9.334556</td>\n",
       "      <td>10.125323</td>\n",
       "      <td>0.000000</td>\n",
       "      <td>8.178285</td>\n",
       "      <td>7.932541</td>\n",
       "      <td>7.906796</td>\n",
       "      <td>7.331808</td>\n",
       "      <td>8.872531</td>\n",
       "      <td>7.077516</td>\n",
       "      <td>8.887748</td>\n",
       "    </tr>\n",
       "    <tr>\n",
       "      <th>3</th>\n",
       "      <td>9.143734</td>\n",
       "      <td>11.733233</td>\n",
       "      <td>8.178285</td>\n",
       "      <td>0.000000</td>\n",
       "      <td>9.087608</td>\n",
       "      <td>6.118750</td>\n",
       "      <td>9.302065</td>\n",
       "      <td>8.922401</td>\n",
       "      <td>7.020425</td>\n",
       "      <td>8.354350</td>\n",
       "    </tr>\n",
       "    <tr>\n",
       "      <th>4</th>\n",
       "      <td>10.769844</td>\n",
       "      <td>10.173786</td>\n",
       "      <td>7.932541</td>\n",
       "      <td>9.087608</td>\n",
       "      <td>0.000000</td>\n",
       "      <td>8.001517</td>\n",
       "      <td>8.782233</td>\n",
       "      <td>7.583012</td>\n",
       "      <td>7.380909</td>\n",
       "      <td>6.010408</td>\n",
       "    </tr>\n",
       "    <tr>\n",
       "      <th>5</th>\n",
       "      <td>7.519296</td>\n",
       "      <td>11.118800</td>\n",
       "      <td>7.906796</td>\n",
       "      <td>6.118750</td>\n",
       "      <td>8.001517</td>\n",
       "      <td>0.000000</td>\n",
       "      <td>6.698692</td>\n",
       "      <td>9.211954</td>\n",
       "      <td>6.967386</td>\n",
       "      <td>8.258538</td>\n",
       "    </tr>\n",
       "    <tr>\n",
       "      <th>6</th>\n",
       "      <td>8.154443</td>\n",
       "      <td>10.614700</td>\n",
       "      <td>7.331808</td>\n",
       "      <td>9.302065</td>\n",
       "      <td>8.782233</td>\n",
       "      <td>6.698692</td>\n",
       "      <td>0.000000</td>\n",
       "      <td>10.888237</td>\n",
       "      <td>8.587222</td>\n",
       "      <td>10.440004</td>\n",
       "    </tr>\n",
       "    <tr>\n",
       "      <th>7</th>\n",
       "      <td>11.864555</td>\n",
       "      <td>10.743154</td>\n",
       "      <td>8.872531</td>\n",
       "      <td>8.922401</td>\n",
       "      <td>7.583012</td>\n",
       "      <td>9.211954</td>\n",
       "      <td>10.888237</td>\n",
       "      <td>0.000000</td>\n",
       "      <td>8.467785</td>\n",
       "      <td>5.426474</td>\n",
       "    </tr>\n",
       "    <tr>\n",
       "      <th>8</th>\n",
       "      <td>9.907902</td>\n",
       "      <td>10.086777</td>\n",
       "      <td>7.077516</td>\n",
       "      <td>7.020425</td>\n",
       "      <td>7.380909</td>\n",
       "      <td>6.967386</td>\n",
       "      <td>8.587222</td>\n",
       "      <td>8.467785</td>\n",
       "      <td>0.000000</td>\n",
       "      <td>6.401166</td>\n",
       "    </tr>\n",
       "    <tr>\n",
       "      <th>9</th>\n",
       "      <td>11.488875</td>\n",
       "      <td>9.932094</td>\n",
       "      <td>8.887748</td>\n",
       "      <td>8.354350</td>\n",
       "      <td>6.010408</td>\n",
       "      <td>8.258538</td>\n",
       "      <td>10.440004</td>\n",
       "      <td>5.426474</td>\n",
       "      <td>6.401166</td>\n",
       "      <td>0.000000</td>\n",
       "    </tr>\n",
       "  </tbody>\n",
       "</table>\n",
       "</div>"
      ],
      "text/plain": [
       "           0          1          2          3          4          5  \\\n",
       "0   0.000000  14.449608   9.334556   9.143734  10.769844   7.519296   \n",
       "1  14.449608   0.000000  10.125323  11.733233  10.173786  11.118800   \n",
       "2   9.334556  10.125323   0.000000   8.178285   7.932541   7.906796   \n",
       "3   9.143734  11.733233   8.178285   0.000000   9.087608   6.118750   \n",
       "4  10.769844  10.173786   7.932541   9.087608   0.000000   8.001517   \n",
       "5   7.519296  11.118800   7.906796   6.118750   8.001517   0.000000   \n",
       "6   8.154443  10.614700   7.331808   9.302065   8.782233   6.698692   \n",
       "7  11.864555  10.743154   8.872531   8.922401   7.583012   9.211954   \n",
       "8   9.907902  10.086777   7.077516   7.020425   7.380909   6.967386   \n",
       "9  11.488875   9.932094   8.887748   8.354350   6.010408   8.258538   \n",
       "\n",
       "           6          7          8          9  \n",
       "0   8.154443  11.864555   9.907902  11.488875  \n",
       "1  10.614700  10.743154  10.086777   9.932094  \n",
       "2   7.331808   8.872531   7.077516   8.887748  \n",
       "3   9.302065   8.922401   7.020425   8.354350  \n",
       "4   8.782233   7.583012   7.380909   6.010408  \n",
       "5   6.698692   9.211954   6.967386   8.258538  \n",
       "6   0.000000  10.888237   8.587222  10.440004  \n",
       "7  10.888237   0.000000   8.467785   5.426474  \n",
       "8   8.587222   8.467785   0.000000   6.401166  \n",
       "9  10.440004   5.426474   6.401166   0.000000  "
      ]
     },
     "execution_count": 62,
     "metadata": {},
     "output_type": "execute_result"
    }
   ],
   "source": [
    "distances = pd.DataFrame(squareform(pdist(centers)), \n",
    "                         columns = [list(range(0, 10))],\n",
    "                         index = [list(range(0, 10))])\n",
    "distances"
   ]
  },
  {
   "cell_type": "markdown",
   "metadata": {},
   "source": [
    "The radius of some the points very long, especially when it is compared with the differences between the centers. "
   ]
  },
  {
   "cell_type": "markdown",
   "metadata": {},
   "source": [
    "### Task 2"
   ]
  },
  {
   "cell_type": "code",
   "execution_count": 63,
   "metadata": {},
   "outputs": [],
   "source": [
    "from sklearn.metrics import confusion_matrix, accuracy_score"
   ]
  },
  {
   "cell_type": "markdown",
   "metadata": {},
   "source": [
    "Simpliest classifier on training data"
   ]
  },
  {
   "cell_type": "code",
   "execution_count": 64,
   "metadata": {},
   "outputs": [],
   "source": [
    "dist_train = pairwise_distances(train_in, centers)\n",
    "pred_train = []\n",
    "for i in dist_train:\n",
    "    tmp_list = list(i)\n",
    "    pred_train.append(tmp_list.index(min(tmp_list)))"
   ]
  },
  {
   "cell_type": "code",
   "execution_count": 65,
   "metadata": {},
   "outputs": [
    {
     "name": "stdout",
     "output_type": "stream",
     "text": [
      "Percentage of correctly classified digits 0.864\n"
     ]
    }
   ],
   "source": [
    "print('Percentage of correctly classified digits', round(accuracy_score(train_out, pred_train), 3))"
   ]
  },
  {
   "cell_type": "markdown",
   "metadata": {},
   "source": [
    "Confusion matrix simpliest classifier on training data with euclidian distances"
   ]
  },
  {
   "cell_type": "code",
   "execution_count": 66,
   "metadata": {},
   "outputs": [
    {
     "data": {
      "text/html": [
       "<div>\n",
       "<style scoped>\n",
       "    .dataframe tbody tr th:only-of-type {\n",
       "        vertical-align: middle;\n",
       "    }\n",
       "\n",
       "    .dataframe tbody tr th {\n",
       "        vertical-align: top;\n",
       "    }\n",
       "\n",
       "    .dataframe thead th {\n",
       "        text-align: right;\n",
       "    }\n",
       "</style>\n",
       "<table border=\"1\" class=\"dataframe\">\n",
       "  <thead>\n",
       "    <tr style=\"text-align: right;\">\n",
       "      <th></th>\n",
       "      <th>0</th>\n",
       "      <th>1</th>\n",
       "      <th>2</th>\n",
       "      <th>3</th>\n",
       "      <th>4</th>\n",
       "      <th>5</th>\n",
       "      <th>6</th>\n",
       "      <th>7</th>\n",
       "      <th>8</th>\n",
       "      <th>9</th>\n",
       "    </tr>\n",
       "  </thead>\n",
       "  <tbody>\n",
       "    <tr>\n",
       "      <th>0</th>\n",
       "      <td>271</td>\n",
       "      <td>0</td>\n",
       "      <td>0</td>\n",
       "      <td>0</td>\n",
       "      <td>2</td>\n",
       "      <td>4</td>\n",
       "      <td>36</td>\n",
       "      <td>0</td>\n",
       "      <td>6</td>\n",
       "      <td>0</td>\n",
       "    </tr>\n",
       "    <tr>\n",
       "      <th>1</th>\n",
       "      <td>0</td>\n",
       "      <td>252</td>\n",
       "      <td>0</td>\n",
       "      <td>0</td>\n",
       "      <td>0</td>\n",
       "      <td>0</td>\n",
       "      <td>0</td>\n",
       "      <td>0</td>\n",
       "      <td>0</td>\n",
       "      <td>0</td>\n",
       "    </tr>\n",
       "    <tr>\n",
       "      <th>2</th>\n",
       "      <td>3</td>\n",
       "      <td>0</td>\n",
       "      <td>167</td>\n",
       "      <td>9</td>\n",
       "      <td>9</td>\n",
       "      <td>1</td>\n",
       "      <td>3</td>\n",
       "      <td>4</td>\n",
       "      <td>6</td>\n",
       "      <td>0</td>\n",
       "    </tr>\n",
       "    <tr>\n",
       "      <th>3</th>\n",
       "      <td>0</td>\n",
       "      <td>0</td>\n",
       "      <td>2</td>\n",
       "      <td>120</td>\n",
       "      <td>1</td>\n",
       "      <td>3</td>\n",
       "      <td>0</td>\n",
       "      <td>1</td>\n",
       "      <td>3</td>\n",
       "      <td>1</td>\n",
       "    </tr>\n",
       "    <tr>\n",
       "      <th>4</th>\n",
       "      <td>0</td>\n",
       "      <td>8</td>\n",
       "      <td>1</td>\n",
       "      <td>0</td>\n",
       "      <td>95</td>\n",
       "      <td>0</td>\n",
       "      <td>3</td>\n",
       "      <td>0</td>\n",
       "      <td>0</td>\n",
       "      <td>15</td>\n",
       "    </tr>\n",
       "    <tr>\n",
       "      <th>5</th>\n",
       "      <td>3</td>\n",
       "      <td>0</td>\n",
       "      <td>2</td>\n",
       "      <td>3</td>\n",
       "      <td>4</td>\n",
       "      <td>67</td>\n",
       "      <td>3</td>\n",
       "      <td>1</td>\n",
       "      <td>2</td>\n",
       "      <td>3</td>\n",
       "    </tr>\n",
       "    <tr>\n",
       "      <th>6</th>\n",
       "      <td>10</td>\n",
       "      <td>4</td>\n",
       "      <td>5</td>\n",
       "      <td>0</td>\n",
       "      <td>2</td>\n",
       "      <td>0</td>\n",
       "      <td>129</td>\n",
       "      <td>0</td>\n",
       "      <td>1</td>\n",
       "      <td>0</td>\n",
       "    </tr>\n",
       "    <tr>\n",
       "      <th>7</th>\n",
       "      <td>0</td>\n",
       "      <td>4</td>\n",
       "      <td>0</td>\n",
       "      <td>0</td>\n",
       "      <td>2</td>\n",
       "      <td>2</td>\n",
       "      <td>0</td>\n",
       "      <td>140</td>\n",
       "      <td>1</td>\n",
       "      <td>17</td>\n",
       "    </tr>\n",
       "    <tr>\n",
       "      <th>8</th>\n",
       "      <td>1</td>\n",
       "      <td>2</td>\n",
       "      <td>1</td>\n",
       "      <td>10</td>\n",
       "      <td>2</td>\n",
       "      <td>3</td>\n",
       "      <td>1</td>\n",
       "      <td>0</td>\n",
       "      <td>121</td>\n",
       "      <td>3</td>\n",
       "    </tr>\n",
       "    <tr>\n",
       "      <th>9</th>\n",
       "      <td>0</td>\n",
       "      <td>3</td>\n",
       "      <td>0</td>\n",
       "      <td>1</td>\n",
       "      <td>10</td>\n",
       "      <td>0</td>\n",
       "      <td>0</td>\n",
       "      <td>6</td>\n",
       "      <td>0</td>\n",
       "      <td>112</td>\n",
       "    </tr>\n",
       "  </tbody>\n",
       "</table>\n",
       "</div>"
      ],
      "text/plain": [
       "     0    1    2    3   4   5    6    7    8    9\n",
       "0  271    0    0    0   2   4   36    0    6    0\n",
       "1    0  252    0    0   0   0    0    0    0    0\n",
       "2    3    0  167    9   9   1    3    4    6    0\n",
       "3    0    0    2  120   1   3    0    1    3    1\n",
       "4    0    8    1    0  95   0    3    0    0   15\n",
       "5    3    0    2    3   4  67    3    1    2    3\n",
       "6   10    4    5    0   2   0  129    0    1    0\n",
       "7    0    4    0    0   2   2    0  140    1   17\n",
       "8    1    2    1   10   2   3    1    0  121    3\n",
       "9    0    3    0    1  10   0    0    6    0  112"
      ]
     },
     "execution_count": 66,
     "metadata": {},
     "output_type": "execute_result"
    }
   ],
   "source": [
    "cm_train_eud = pd.DataFrame(confusion_matrix(train_out, pred_train))\n",
    "cm_train_eud"
   ]
  },
  {
   "cell_type": "code",
   "execution_count": 97,
   "metadata": {},
   "outputs": [
    {
     "data": {
      "text/plain": [
       "<matplotlib.image.AxesImage at 0x7fb43bfdbb00>"
      ]
     },
     "execution_count": 97,
     "metadata": {},
     "output_type": "execute_result"
    },
    {
     "data": {
      "image/png": "[encoded data removed]",
      "text/plain": [
       "<Figure size 288x288 with 1 Axes>"
      ]
     },
     "metadata": {
      "needs_background": "light"
     },
     "output_type": "display_data"
    }
   ],
   "source": [
    "plt.matshow(cm_train_eud, cmap = 'BuGn')"
   ]
  },
  {
   "cell_type": "code",
   "execution_count": 79,
   "metadata": {},
   "outputs": [
    {
     "name": "stdout",
     "output_type": "stream",
     "text": [
      "Percentage of correctly classified digits 0.804\n"
     ]
    },
    {
     "data": {
      "text/html": [
       "<div>\n",
       "<style scoped>\n",
       "    .dataframe tbody tr th:only-of-type {\n",
       "        vertical-align: middle;\n",
       "    }\n",
       "\n",
       "    .dataframe tbody tr th {\n",
       "        vertical-align: top;\n",
       "    }\n",
       "\n",
       "    .dataframe thead th {\n",
       "        text-align: right;\n",
       "    }\n",
       "</style>\n",
       "<table border=\"1\" class=\"dataframe\">\n",
       "  <thead>\n",
       "    <tr style=\"text-align: right;\">\n",
       "      <th></th>\n",
       "      <th>0</th>\n",
       "      <th>1</th>\n",
       "      <th>2</th>\n",
       "      <th>3</th>\n",
       "      <th>4</th>\n",
       "      <th>5</th>\n",
       "      <th>6</th>\n",
       "      <th>7</th>\n",
       "      <th>8</th>\n",
       "      <th>9</th>\n",
       "    </tr>\n",
       "  </thead>\n",
       "  <tbody>\n",
       "    <tr>\n",
       "      <th>0</th>\n",
       "      <td>178</td>\n",
       "      <td>0</td>\n",
       "      <td>3</td>\n",
       "      <td>2</td>\n",
       "      <td>4</td>\n",
       "      <td>2</td>\n",
       "      <td>23</td>\n",
       "      <td>1</td>\n",
       "      <td>10</td>\n",
       "      <td>1</td>\n",
       "    </tr>\n",
       "    <tr>\n",
       "      <th>1</th>\n",
       "      <td>0</td>\n",
       "      <td>120</td>\n",
       "      <td>0</td>\n",
       "      <td>0</td>\n",
       "      <td>0</td>\n",
       "      <td>0</td>\n",
       "      <td>1</td>\n",
       "      <td>0</td>\n",
       "      <td>0</td>\n",
       "      <td>0</td>\n",
       "    </tr>\n",
       "    <tr>\n",
       "      <th>2</th>\n",
       "      <td>2</td>\n",
       "      <td>0</td>\n",
       "      <td>69</td>\n",
       "      <td>6</td>\n",
       "      <td>8</td>\n",
       "      <td>1</td>\n",
       "      <td>0</td>\n",
       "      <td>2</td>\n",
       "      <td>13</td>\n",
       "      <td>0</td>\n",
       "    </tr>\n",
       "    <tr>\n",
       "      <th>3</th>\n",
       "      <td>3</td>\n",
       "      <td>0</td>\n",
       "      <td>3</td>\n",
       "      <td>61</td>\n",
       "      <td>1</td>\n",
       "      <td>8</td>\n",
       "      <td>0</td>\n",
       "      <td>0</td>\n",
       "      <td>1</td>\n",
       "      <td>2</td>\n",
       "    </tr>\n",
       "    <tr>\n",
       "      <th>4</th>\n",
       "      <td>1</td>\n",
       "      <td>3</td>\n",
       "      <td>3</td>\n",
       "      <td>0</td>\n",
       "      <td>69</td>\n",
       "      <td>0</td>\n",
       "      <td>1</td>\n",
       "      <td>1</td>\n",
       "      <td>0</td>\n",
       "      <td>8</td>\n",
       "    </tr>\n",
       "    <tr>\n",
       "      <th>5</th>\n",
       "      <td>3</td>\n",
       "      <td>0</td>\n",
       "      <td>0</td>\n",
       "      <td>6</td>\n",
       "      <td>3</td>\n",
       "      <td>38</td>\n",
       "      <td>1</td>\n",
       "      <td>0</td>\n",
       "      <td>0</td>\n",
       "      <td>4</td>\n",
       "    </tr>\n",
       "    <tr>\n",
       "      <th>6</th>\n",
       "      <td>7</td>\n",
       "      <td>0</td>\n",
       "      <td>2</td>\n",
       "      <td>0</td>\n",
       "      <td>2</td>\n",
       "      <td>1</td>\n",
       "      <td>78</td>\n",
       "      <td>0</td>\n",
       "      <td>0</td>\n",
       "      <td>0</td>\n",
       "    </tr>\n",
       "    <tr>\n",
       "      <th>7</th>\n",
       "      <td>0</td>\n",
       "      <td>2</td>\n",
       "      <td>1</td>\n",
       "      <td>0</td>\n",
       "      <td>5</td>\n",
       "      <td>0</td>\n",
       "      <td>0</td>\n",
       "      <td>50</td>\n",
       "      <td>0</td>\n",
       "      <td>6</td>\n",
       "    </tr>\n",
       "    <tr>\n",
       "      <th>8</th>\n",
       "      <td>3</td>\n",
       "      <td>2</td>\n",
       "      <td>0</td>\n",
       "      <td>6</td>\n",
       "      <td>3</td>\n",
       "      <td>3</td>\n",
       "      <td>0</td>\n",
       "      <td>0</td>\n",
       "      <td>73</td>\n",
       "      <td>2</td>\n",
       "    </tr>\n",
       "    <tr>\n",
       "      <th>9</th>\n",
       "      <td>0</td>\n",
       "      <td>5</td>\n",
       "      <td>0</td>\n",
       "      <td>0</td>\n",
       "      <td>8</td>\n",
       "      <td>0</td>\n",
       "      <td>0</td>\n",
       "      <td>5</td>\n",
       "      <td>2</td>\n",
       "      <td>68</td>\n",
       "    </tr>\n",
       "  </tbody>\n",
       "</table>\n",
       "</div>"
      ],
      "text/plain": [
       "     0    1   2   3   4   5   6   7   8   9\n",
       "0  178    0   3   2   4   2  23   1  10   1\n",
       "1    0  120   0   0   0   0   1   0   0   0\n",
       "2    2    0  69   6   8   1   0   2  13   0\n",
       "3    3    0   3  61   1   8   0   0   1   2\n",
       "4    1    3   3   0  69   0   1   1   0   8\n",
       "5    3    0   0   6   3  38   1   0   0   4\n",
       "6    7    0   2   0   2   1  78   0   0   0\n",
       "7    0    2   1   0   5   0   0  50   0   6\n",
       "8    3    2   0   6   3   3   0   0  73   2\n",
       "9    0    5   0   0   8   0   0   5   2  68"
      ]
     },
     "execution_count": 79,
     "metadata": {},
     "output_type": "execute_result"
    }
   ],
   "source": [
    "dist_test = pairwise_distances(test_in, centers)\n",
    "pred_test = []\n",
    "for i in dist_test:\n",
    "    tmp_list = list(i)\n",
    "    pred_test.append(tmp_list.index(min(tmp_list)))\n",
    "    \n",
    "print('Percentage of correctly classified digits', round(accuracy_score(test_out, pred_test), 3))\n",
    "cm_test_eud = pd.DataFrame(confusion_matrix(test_out, pred_test))\n",
    "cm_test_eud"
   ]
  },
  {
   "cell_type": "code",
   "execution_count": 83,
   "metadata": {},
   "outputs": [
    {
     "data": {
      "text/plain": [
       "<matplotlib.image.AxesImage at 0x7fb4523c2d68>"
      ]
     },
     "execution_count": 83,
     "metadata": {},
     "output_type": "execute_result"
    },
    {
     "data": {
      "image/png": "[encoded data removed]",
      "text/plain": [
       "<Figure size 288x288 with 1 Axes>"
      ]
     },
     "metadata": {
      "needs_background": "light"
     },
     "output_type": "display_data"
    }
   ],
   "source": [
    "plt.matshow(cm_test_eud, cmap = \"binary\")"
   ]
  },
  {
   "cell_type": "code",
   "execution_count": 85,
   "metadata": {},
   "outputs": [
    {
     "data": {
      "text/plain": [
       "{'cityblock': 0.721,\n",
       " 'cosine': 0.799,\n",
       " 'euclidean': 0.804,\n",
       " 'l1': 0.721,\n",
       " 'l2': 0.804,\n",
       " 'mahalanobis': 0.721,\n",
       " 'minkowski': 0.804,\n",
       " 'seuclidean': 0.79,\n",
       " 'sqeuclidean': 0.804}"
      ]
     },
     "execution_count": 85,
     "metadata": {},
     "output_type": "execute_result"
    }
   ],
   "source": [
    "metrics = ['cityblock','cosine',  'euclidean', 'l1', 'l2', 'mahalanobis', 'minkowski', 'seuclidean', 'sqeuclidean']\n",
    "accuracies = {}\n",
    "for metric in metrics:\n",
    "    dist_metrics = pairwise_distances(test_in, centers, metric = metric)\n",
    "    pred_metrics = []\n",
    "    for i in dist_metrics:\n",
    "        tmp_list = list(i)\n",
    "        pred_metrics.append(tmp_list.index(min(tmp_list)))\n",
    "    acc = round(accuracy_score(test_out, pred_metrics), 3)\n",
    "    accuracies[metric] = acc\n",
    "accuracies"
   ]
  },
  {
   "cell_type": "markdown",
   "metadata": {},
   "source": [
    "## Task 3"
   ]
  },
  {
   "cell_type": "markdown",
   "metadata": {},
   "source": [
    "Steps to take [slide]:\n",
    "1. initialize weights **w** at random\n",
    "2. `while` (there are misclassified training examples)\n",
    "    - select a misclassified example (**x**, $\\textbf{c}_i$)\n",
    "    - then some nodes are activated more than the node $c_i$\n",
    "        - 1 update weights of these nodes by **-x**: $w = w - x$\n",
    "        - 2 update weights of the node $c_i$ by **x**: $w = w + x$\n",
    "        - 3 leave weights of all other nodes unchanged\n",
    "\n",
    "    `end-while`"
   ]
  },
  {
   "cell_type": "code",
   "execution_count": 5,
   "metadata": {},
   "outputs": [],
   "source": [
    "def AddBias(train_data):\n",
    "    rows, cols = np.shape(train_data)\n",
    "    bias = np.ones((rows, 1))\n",
    "    \n",
    "    return np.hstack((bias, train_data))"
   ]
  },
  {
   "cell_type": "code",
   "execution_count": 6,
   "metadata": {},
   "outputs": [],
   "source": [
    "def CreateWeights(train_data_b):\n",
    "        \n",
    "    rows, rows_w = np.shape(train_data_b)\n",
    "    cols_w = len(set(train_out['D']))\n",
    "    \n",
    "    weights = np.random.rand(rows_w, cols_w)\n",
    "    \n",
    "    return weights"
   ]
  },
  {
   "cell_type": "code",
   "execution_count": 7,
   "metadata": {},
   "outputs": [],
   "source": [
    "def CreateOutput(train_data_b, weights):  \n",
    " \n",
    "    out = np.dot(train_data_b, weights)\n",
    "    \n",
    "    return out"
   ]
  },
  {
   "cell_type": "code",
   "execution_count": 8,
   "metadata": {},
   "outputs": [],
   "source": [
    "def Predict(output_data):\n",
    "        \n",
    "    predictions = np.argmax(output_data, axis = 1)\n",
    "    \n",
    "    return predictions"
   ]
  },
  {
   "cell_type": "code",
   "execution_count": 9,
   "metadata": {},
   "outputs": [],
   "source": [
    "def TrainPerceptron(train_in, train_out):\n",
    "    \n",
    "    start = timeit.default_timer()\n",
    "\n",
    "    train_in_b = AddBias(train_in)\n",
    "    weights = CreateWeights(train_in_b)\n",
    "    activities = CreateOutput(train_in_b, weights)\n",
    "    classifications = Predict(activities)\n",
    "    \n",
    "    accuracies = []\n",
    "    \n",
    "    iterations = 0\n",
    "\n",
    "    while not np.array_equal(classifications, np.array(train_out)[:,0]):\n",
    "           \n",
    "        iterations += 1\n",
    "        if iterations == 500:\n",
    "            break\n",
    "        \n",
    "        for i in enumerate(classifications):\n",
    "\n",
    "            index = i[0]\n",
    "            true_digit = np.array(train_out)[index] \n",
    "\n",
    "            if i[1] == true_digit:\n",
    "                continue\n",
    "\n",
    "            bench = activities[index, true_digit]\n",
    "            cols_to_update = np.where(activities[index, :] > bench)[0]\n",
    "\n",
    "            weights[:, cols_to_update] -= np.array(train_in_b)[index, :, None] \n",
    "            weights[:, true_digit] += np.array(train_in_b)[index, :, None]\n",
    "\n",
    "        activities = CreateOutput(train_in_b, weights)\n",
    "        classifications = Predict(activities)\n",
    "        \n",
    "        n = len(train_out)\n",
    "        k = sum(classifications == np.array(train_out).flatten())\n",
    "        accuracy = k/n * 100\n",
    "    \n",
    "        accuracies.append(accuracy)\n",
    "    \n",
    "    stop = timeit.default_timer()\n",
    "    runtime = round(stop - start, 3)\n",
    "    \n",
    "    \n",
    "    out = {'iterations':iterations, \"runtime\":runtime, 'weights':weights, 'accuracies':accuracies}\n",
    "        \n",
    "    return out"
   ]
  },
  {
   "cell_type": "code",
   "execution_count": 10,
   "metadata": {},
   "outputs": [],
   "source": [
    "tmp = TrainPerceptron(train_in, train_out)"
   ]
  },
  {
   "cell_type": "code",
   "execution_count": 18,
   "metadata": {},
   "outputs": [
    {
     "data": {
      "image/png": "[encoded data removed]",
      "text/plain": [
       "<Figure size 1440x720 with 1 Axes>"
      ]
     },
     "metadata": {
      "needs_background": "light"
     },
     "output_type": "display_data"
    }
   ],
   "source": [
    "fig = plt.figure(figsize = (20,10))\n",
    "plt.plot(range(len(tmp['accuracies'])), tmp['accuracies'], color = \"blue\")\n",
    "plt.xlabel(\"iterations\")\n",
    "plt.ylabel(\"Accuracy (%)\")\n",
    "\n",
    "fig.savefig(\"accuracy.png\")\n"
   ]
  },
  {
   "cell_type": "code",
   "execution_count": null,
   "metadata": {},
   "outputs": [],
   "source": [
    "def TrainPerceptron_Geron(train_in, train_out):\n",
    "    \n",
    "    start = timeit.default_timer()\n",
    "\n",
    "    train_in_b = AddBias(train_in)\n",
    "    weights = CreateWeights(train_in_b)\n",
    "    activities = CreateOutput(train_in_b, weights)\n",
    "    classifications = Predict(activities)\n",
    "    \n",
    "    iterations = 0\n",
    "\n",
    "    while not np.array_equal(classifications, np.array(train_out)[:,0]):\n",
    "        \n",
    "        iterations += 1\n",
    "        if iterations == 500:\n",
    "            break\n",
    "        \n",
    "        for i in enumerate(classifications):\n",
    "\n",
    "            index = i[0]\n",
    "            true_digit = np.array(train_out)[index] \n",
    "\n",
    "            bench = activities[index, true_digit]\n",
    "            y_diff = bench - activities[index, ]\n",
    "\n",
    "            weights += 0.0001 * np.multiply(np.array(train_in_b)[index, :, None], y_diff)\n",
    "\n",
    "        activities = CreateOutput(train_in_b, weights)\n",
    "        classifications = Predict(activities)\n",
    "        \n",
    "    stop = timeit.default_timer()\n",
    "    runtime = round(stop - start, 3)\n",
    "    \n",
    "    out = {'iterations':iterations, \"runtime\":runtime, 'weights':weights}\n",
    "        \n",
    "    return out"
   ]
  },
  {
   "cell_type": "code",
   "execution_count": 163,
   "metadata": {},
   "outputs": [],
   "source": [
    "def TestPerceptron(test_in, weights, true):\n",
    "    \n",
    "    true = np.array(true)[:, 0]\n",
    "        \n",
    "    test_in_b = AddBias(test_in)\n",
    "    test_act = CreateOutput(test_in_b, weights)\n",
    "    pred_out = Predict(test_act)\n",
    "    \n",
    "    n = len(true)\n",
    "    k = sum(pred_out == true)\n",
    "    accuracy = k/n\n",
    "        \n",
    "    out = {\"accuracy\": accuracy, \"predictions\": pred_out}\n",
    "    \n",
    "    return out"
   ]
  },
  {
   "cell_type": "code",
   "execution_count": 130,
   "metadata": {},
   "outputs": [
    {
     "data": {
      "text/plain": [
       "{'iterations': 278,\n",
       " 'runtime': 7.364,\n",
       " 'weights': array([[-2465.61422183, -2863.67794207, -2325.42153082, ...,\n",
       "         -2647.14221911, -2495.2349813 , -2580.88322728],\n",
       "        [ 2457.58349205,  2849.50091317,  2339.51673978, ...,\n",
       "          2652.7721235 ,  2481.01901992,  2570.47986568],\n",
       "        [ 2415.07784174,  2768.95462876,  2341.65012878, ...,\n",
       "          2676.0970986 ,  2449.7169573 ,  2520.14362851],\n",
       "        ...,\n",
       "        [ 2207.77565426,  2699.77880877,  2461.11023272, ...,\n",
       "          2332.70982785,  2285.21977004,  2473.99976166],\n",
       "        [ 2376.38350168,  2781.13514453,  2397.77812184, ...,\n",
       "          2493.3563987 ,  2415.17128071,  2522.04596987],\n",
       "        [ 2448.08699916,  2841.37901989,  2360.77521642, ...,\n",
       "          2623.89368446,  2475.42291278,  2560.65146581]])}"
      ]
     },
     "execution_count": 130,
     "metadata": {},
     "output_type": "execute_result"
    }
   ],
   "source": [
    "TrainPerceptron(train_in, train_out)"
   ]
  },
  {
   "cell_type": "markdown",
   "metadata": {},
   "source": [
    "## Task 4"
   ]
  },
  {
   "cell_type": "code",
   "execution_count": 458,
   "metadata": {},
   "outputs": [],
   "source": [
    "def binom(n, k):\n",
    "    \n",
    "    return math.factorial(n) // math.factorial(k) // math.factorial(n - k)"
   ]
  },
  {
   "cell_type": "code",
   "execution_count": 505,
   "metadata": {},
   "outputs": [],
   "source": [
    "def F(N, d):\n",
    "    total_sum = 0\n",
    "     \n",
    "    if N <= (d + 1):\n",
    "        prob = 1\n",
    "    else:\n",
    "        for i in list(range(d)):\n",
    "            new_val = binom((N - 1),i)\n",
    "            total_sum += new_val\n",
    "        prob = total_sum / (2 ** (N - 1))  \n",
    "    \n",
    "    return prob"
   ]
  },
  {
   "cell_type": "markdown",
   "metadata": {},
   "source": [
    "Is the set of all images of ones linearly separable from the set of all images of sevens?\n",
    "\n",
    "*Answer:*\n",
    "N < 2 * number of dimension: (252 + 166) < (2 * 256)\n",
    "This matches with the results from the computation of F."
   ]
  },
  {
   "cell_type": "markdown",
   "metadata": {},
   "source": [
    "More general: if the total number of observations N within digitclasses *c1* and *c2* is bigger than the number of dimensions, in our case 256, the digitis will not be linearly separable. "
   ]
  },
  {
   "cell_type": "code",
   "execution_count": 560,
   "metadata": {},
   "outputs": [
    {
     "data": {
      "text/html": [
       "<div>\n",
       "<style scoped>\n",
       "    .dataframe tbody tr th:only-of-type {\n",
       "        vertical-align: middle;\n",
       "    }\n",
       "\n",
       "    .dataframe tbody tr th {\n",
       "        vertical-align: top;\n",
       "    }\n",
       "\n",
       "    .dataframe thead th {\n",
       "        text-align: right;\n",
       "    }\n",
       "</style>\n",
       "<table border=\"1\" class=\"dataframe\">\n",
       "  <thead>\n",
       "    <tr style=\"text-align: right;\">\n",
       "      <th></th>\n",
       "      <th>Counts</th>\n",
       "    </tr>\n",
       "  </thead>\n",
       "  <tbody>\n",
       "    <tr>\n",
       "      <th>0</th>\n",
       "      <td>319</td>\n",
       "    </tr>\n",
       "    <tr>\n",
       "      <th>1</th>\n",
       "      <td>252</td>\n",
       "    </tr>\n",
       "    <tr>\n",
       "      <th>2</th>\n",
       "      <td>202</td>\n",
       "    </tr>\n",
       "    <tr>\n",
       "      <th>3</th>\n",
       "      <td>131</td>\n",
       "    </tr>\n",
       "    <tr>\n",
       "      <th>4</th>\n",
       "      <td>122</td>\n",
       "    </tr>\n",
       "    <tr>\n",
       "      <th>5</th>\n",
       "      <td>88</td>\n",
       "    </tr>\n",
       "    <tr>\n",
       "      <th>6</th>\n",
       "      <td>151</td>\n",
       "    </tr>\n",
       "    <tr>\n",
       "      <th>7</th>\n",
       "      <td>166</td>\n",
       "    </tr>\n",
       "    <tr>\n",
       "      <th>8</th>\n",
       "      <td>144</td>\n",
       "    </tr>\n",
       "    <tr>\n",
       "      <th>9</th>\n",
       "      <td>132</td>\n",
       "    </tr>\n",
       "  </tbody>\n",
       "</table>\n",
       "</div>"
      ],
      "text/plain": [
       "   Counts\n",
       "0     319\n",
       "1     252\n",
       "2     202\n",
       "3     131\n",
       "4     122\n",
       "5      88\n",
       "6     151\n",
       "7     166\n",
       "8     144\n",
       "9     132"
      ]
     },
     "execution_count": 560,
     "metadata": {},
     "output_type": "execute_result"
    }
   ],
   "source": []
  },
  {
   "cell_type": "code",
   "execution_count": 552,
   "metadata": {},
   "outputs": [],
   "source": [
    "tmp = train.loc[(train[\"D\"] == 0) | (train[\"D\"] == 1), ]\n",
    "tmp_true = pd.DataFrame(tmp[\"D\"].copy())\n",
    "tmp =  tmp.drop(columns = [\"D\"])"
   ]
  },
  {
   "cell_type": "code",
   "execution_count": 573,
   "metadata": {},
   "outputs": [
    {
     "data": {
      "text/plain": [
       "(571, 256)"
      ]
     },
     "execution_count": 573,
     "metadata": {},
     "output_type": "execute_result"
    }
   ],
   "source": [
    "np.shape(tmp)"
   ]
  },
  {
   "cell_type": "code",
   "execution_count": 575,
   "metadata": {},
   "outputs": [],
   "source": [
    "out = []\n",
    "\n",
    "for i in range(10):\n",
    "    for j in range(i + 1, 10):\n",
    "        X = train.loc[(train[\"D\"] == i) | (train[\"D\"] == j), ]\n",
    "        Y = pd.DataFrame(X[\"D\"].copy())\n",
    "        X = X.drop(columns = [\"D\"])\n",
    "        \n",
    "        N = X.shape[0] \n",
    "        \n",
    "        trained = TrainPerceptron(X, Y)\n",
    "        \n",
    "        out.append((i, j, N, trained[\"iterations\"]))"
   ]
  },
  {
   "cell_type": "code",
   "execution_count": 166,
   "metadata": {},
   "outputs": [
    {
     "ename": "NameError",
     "evalue": "name 'out' is not defined",
     "output_type": "error",
     "traceback": [
      "\u001b[0;31m---------------------------------------------------------------------------\u001b[0m",
      "\u001b[0;31mNameError\u001b[0m                                 Traceback (most recent call last)",
      "\u001b[0;32m<ipython-input-166-767d052b83d1>\u001b[0m in \u001b[0;36m<module>\u001b[0;34m\u001b[0m\n\u001b[0;32m----> 1\u001b[0;31m \u001b[0mout\u001b[0m \u001b[0;34m=\u001b[0m \u001b[0mpd\u001b[0m\u001b[0;34m.\u001b[0m\u001b[0mDataFrame\u001b[0m\u001b[0;34m(\u001b[0m\u001b[0mout\u001b[0m\u001b[0;34m,\u001b[0m \u001b[0mcolumns\u001b[0m \u001b[0;34m=\u001b[0m \u001b[0;34m[\u001b[0m\u001b[0;34m\"i\"\u001b[0m\u001b[0;34m,\u001b[0m \u001b[0;34m\"j\"\u001b[0m\u001b[0;34m,\u001b[0m \u001b[0;34m\"N\"\u001b[0m\u001b[0;34m,\u001b[0m \u001b[0;34m\"iterations\"\u001b[0m\u001b[0;34m]\u001b[0m\u001b[0;34m)\u001b[0m\u001b[0;34m\u001b[0m\u001b[0;34m\u001b[0m\u001b[0m\n\u001b[0m",
      "\u001b[0;31mNameError\u001b[0m: name 'out' is not defined"
     ]
    }
   ],
   "source": [
    "out = pd.DataFrame(out, columns = [\"i\", \"j\", \"N\", \"iterations\"])"
   ]
  },
  {
   "cell_type": "code",
   "execution_count": 28,
   "metadata": {},
   "outputs": [],
   "source": [
    "x = np.array([0, 0])\n",
    "inputs = np.array([(0,0), (0,1), (1,0), (1,1)])\n",
    "y_true =[0, 1, 1, 0]"
   ]
  },
  {
   "cell_type": "markdown",
   "metadata": {},
   "source": [
    "## Task 5"
   ]
  },
  {
   "cell_type": "code",
   "execution_count": 962,
   "metadata": {},
   "outputs": [],
   "source": [
    "def CreateXORWeights(n_weights):\n",
    "    out = np.random.normal(0, 1, n_weights)\n",
    "    \n",
    "    return out"
   ]
  },
  {
   "cell_type": "code",
   "execution_count": 963,
   "metadata": {},
   "outputs": [],
   "source": [
    "def sigmoid(x):\n",
    "    return 1/(1 + np.exp(-x))\n",
    "\n",
    "def sigmoid_prime(x):\n",
    "    return x * (1 - x)"
   ]
  },
  {
   "cell_type": "code",
   "execution_count": 964,
   "metadata": {},
   "outputs": [],
   "source": [
    "def tanh(x):\n",
    "    out = 2 / (1 + np.exp(-2 * x)) - 1\n",
    "    \n",
    "    return out\n",
    "\n",
    "def tanh_prime(x):\n",
    "    out = 1 - tanh(x)**2\n",
    "    \n",
    "    return out"
   ]
  },
  {
   "cell_type": "code",
   "execution_count": 965,
   "metadata": {},
   "outputs": [],
   "source": [
    "def relu(x):\n",
    "    if x < 0:\n",
    "        out = 0\n",
    "    else:\n",
    "        out = x\n",
    "        \n",
    "    return out\n",
    "\n",
    "def relu_prime(x):\n",
    "    if x < 0:\n",
    "        out = 0\n",
    "    else:\n",
    "        out = 1\n",
    "        \n",
    "    return out"
   ]
  },
  {
   "cell_type": "code",
   "execution_count": 1006,
   "metadata": {},
   "outputs": [],
   "source": [
    "def softplus(x):\n",
    "    out = np.log(1 + np.exp(x))\n",
    "    \n",
    "    return out\n",
    "\n",
    "def softplus_prime(x):\n",
    "    out = 1 / (1 + np.exp(-x))\n",
    "    \n",
    "    return out"
   ]
  },
  {
   "cell_type": "code",
   "execution_count": 1007,
   "metadata": {},
   "outputs": [],
   "source": [
    "def xor_net(x, weights, func):\n",
    "    hidden_weights = weights[:-3]\n",
    "    output_weights = weights[6:]\n",
    "    \n",
    "    hidden_mat = np.array([[1, x[0], x[1], 0, 0, 0],\n",
    "                     [0, 0, 0, 1, x[0], x[1]]])\n",
    "    \n",
    "    hidden_activities = np.dot(hidden_weights, hidden_mat.T)\n",
    "    hidden_activity_1 = func(hidden_activities[0])\n",
    "    hidden_activity_2 = func(hidden_activities[1])\n",
    "    \n",
    "    output_mat = np.vstack([1, hidden_activity_1, hidden_activity_2])\n",
    "    output_activities = float(func(np.dot(output_weights, output_mat)))\n",
    "    \n",
    "    if output_activities > 0.5:\n",
    "        classification = 1\n",
    "    else:\n",
    "        classification = 0\n",
    "      \n",
    "    out = {'hid_act1':hidden_activity_1, 'hid_act2' : hidden_activity_2, \n",
    "           'out_act' : output_activities, 'classification': classification}\n",
    "    \n",
    "    return(out)    "
   ]
  },
  {
   "cell_type": "code",
   "execution_count": 1008,
   "metadata": {},
   "outputs": [],
   "source": [
    "def mse(inputs, weights, func):\n",
    "    error = 0\n",
    "    for x in inputs:\n",
    "        y_pred = xor_net(x, weights, func)['out_act']\n",
    "        y_true = (x[0] != x[1])\n",
    "        \n",
    "        error += (y_true - y_pred)**2\n",
    "    MSE = error/len(inputs)\n",
    "    \n",
    "    return MSE"
   ]
  },
  {
   "cell_type": "code",
   "execution_count": 1207,
   "metadata": {},
   "outputs": [],
   "source": [
    "def grdmse(x, weights, func, func_prime):\n",
    "    activities = xor_net(x, weights, func)\n",
    "    \n",
    "    y_pred = activities['out_act']\n",
    "    y_true = (x[0] != x[1])\n",
    "    \n",
    "    part_der_w0 = (y_pred - y_true)*func_prime(activities['out_act'])*weights[7]*func_prime(activities['hid_act1'])\n",
    "    part_der_w1 = (y_pred - y_true)*func_prime(activities['out_act'])*weights[7]*func_prime(activities['hid_act1']*x[0])\n",
    "    part_der_w2 = (y_pred - y_true)*func_prime(activities['out_act'])*weights[7]*func_prime(activities['hid_act1']*x[1])\n",
    "    \n",
    "    part_der_v0 = (y_pred - y_true)*func_prime(activities['out_act'])*weights[8]*func_prime(activities['hid_act2'])\n",
    "    part_der_v1 = (y_pred - y_true)*func_prime(activities['out_act'])*weights[8]*func_prime(activities['hid_act2']*x[0])\n",
    "    part_der_v2 = (y_pred - y_true)*func_prime(activities['out_act'])*weights[8]*func_prime(activities['hid_act2']*x[1])\n",
    "    \n",
    "    part_der_u0 = (y_pred - y_true)*func_prime(activities['out_act'])\n",
    "    part_der_u1 = (y_pred - y_true)*func_prime(activities['out_act'])*activities['hid_act1']\n",
    "    part_der_u2 = (y_pred - y_true)*func_prime(activities['out_act'])*activities['hid_act2']\n",
    "    \n",
    "    out = np.vstack([part_der_w0, part_der_w1, part_der_w2, \n",
    "                    part_der_v0, part_der_v1, part_der_v2,\n",
    "                    part_der_u0, part_der_u1, part_der_u2])\n",
    "    \n",
    "    return out"
   ]
  },
  {
   "cell_type": "code",
   "execution_count": 1208,
   "metadata": {},
   "outputs": [],
   "source": [
    "def update_weights(lr, weights, grd_weights):\n",
    "    weights = weights - lr*grd_weights.flatten()\n",
    "    \n",
    "    return weights "
   ]
  },
  {
   "cell_type": "code",
   "execution_count": 1236,
   "metadata": {},
   "outputs": [],
   "source": [
    "def Train_XOR(inputs, lr, func, func_prime, weights, max_iterations = 1000):\n",
    "    MSE = 1\n",
    "    errors = []\n",
    "    misclass = []\n",
    "    iterations = 0\n",
    "    \n",
    "    while iterations < max_iterations:\n",
    "        wrong_pred = 0\n",
    "        iterations += 1\n",
    "    \n",
    "        for x in inputs:\n",
    "            grd_weights = grdmse(x, weights, func, func_prime)\n",
    "            weights = update_weights(lr, weights, grd_weights)\n",
    "            \n",
    "            y_pred = xor_net(x, weights, func)['classification']\n",
    "            y_true = (x[0] != x[1])\n",
    "            wrong_pred += int(y_pred != y_true)\n",
    "            \n",
    "        MSE = mse(inputs, weights, func)\n",
    "        errors.append(MSE)\n",
    "        misclass.append(wrong_pred)\n",
    "        \n",
    "        out = {'iterations':iterations, 'errors': errors, 'weights': weights, 'misclass':misclass }\n",
    "        \n",
    "    return out"
   ]
  },
  {
   "cell_type": "code",
   "execution_count": 1250,
   "metadata": {},
   "outputs": [],
   "source": [
    "weights = CreateXORWeights(9)\n",
    "inputs = np.array([(0, 0), (0, 1), (1, 0), (1, 1)])"
   ]
  },
  {
   "cell_type": "code",
   "execution_count": 1251,
   "metadata": {},
   "outputs": [],
   "source": [
    "output_sigmoid = Train_XOR(inputs, 1, sigmoid, sigmoid_prime, weights)\n",
    "output_tanh = Train_XOR(inputs, 0.5, tanh, tanh_prime, weights)\n",
    "output_relu = Train_XOR(inputs, 0.05, relu, relu_prime, weights)\n",
    "output_softplus = Train_XOR(inputs, 0.5, softplus, softplus_prime, weights)"
   ]
  },
  {
   "cell_type": "code",
   "execution_count": 1252,
   "metadata": {},
   "outputs": [],
   "source": [
    "accuracies_sigmoid = (4 - np.array(output_sigmoid[\"misclass\"]))/4 * 100\n",
    "accuracies_tanh = (4 - np.array(output_tanh[\"misclass\"]))/4 * 100\n",
    "accuracies_relu = (4 - np.array(output_relu[\"misclass\"]))/4 * 100\n",
    "accuracies_softplus = (4 - np.array(output_softplus[\"misclass\"]))/4 * 100"
   ]
  },
  {
   "cell_type": "code",
   "execution_count": 1304,
   "metadata": {},
   "outputs": [
    {
     "data": {
      "image/png": "[encoded data removed]",
      "text/plain": [
       "<Figure size 720x576 with 8 Axes>"
      ]
     },
     "metadata": {
      "needs_background": "light"
     },
     "output_type": "display_data"
    }
   ],
   "source": [
    "fig, ((ax1, ax2), (ax3, ax4)) = plt.subplots(2, 2, figsize=(10,8), tight_layout = True)\n",
    "ax5 = ax1.twinx() ; ax6 = ax2.twinx() ; ax7 = ax3.twinx() ; ax8 = ax4.twinx()\n",
    "\n",
    "l1, = ax1.plot(np.arange(output_sigmoid[\"iterations\"]), accuracies_sigmoid, color = 'blue')\n",
    "ax1.set_ylim([0, 105])\n",
    "ax1.set_title(\"Sigmoid, $\\eta = 1.0$\")\n",
    "ax1.set_xlabel(\"iterations\")\n",
    "ax1.set_ylabel(\"Accuracy (%)\")\n",
    "\n",
    "ax2.plot(np.arange(output_tanh[\"iterations\"]), accuracies_tanh, color = 'blue')\n",
    "ax2.set_ylim([0, 105])\n",
    "ax2.set_title(\"Tanh, $\\eta = 0.5$\")\n",
    "ax2.set_xlabel(\"iterations\")\n",
    "\n",
    "ax3.plot(np.arange(output_relu[\"iterations\"]), accuracies_relu, color = 'blue')\n",
    "ax3.set_ylim([0, 105])\n",
    "ax3.set_title(\"RELU, $\\eta = 0.05$\")\n",
    "ax3.set_xlabel(\"iterations\")\n",
    "\n",
    "ax4.plot(np.arange(output_softplus[\"iterations\"]), accuracies_softplus, color = 'blue')\n",
    "ax4.set_ylim([0, 105])\n",
    "ax4.set_title(\"Softplus, $\\eta = 0.5$\")\n",
    "ax4.set_xlabel(\"iterations\")\n",
    "\n",
    "l2, = ax5.plot(np.arange(output_sigmoid[\"iterations\"]), output_sigmoid[\"errors\"], color = \"red\")\n",
    "ax5.set_ylim([0, 0.6])\n",
    "ax5.set_ylabel(\"MSE\")\n",
    "\n",
    "ax6.plot(np.arange(output_tanh[\"iterations\"]), output_tanh[\"errors\"], color = \"red\")\n",
    "ax6.set_ylim([0, 0.6])\n",
    "\n",
    "ax7.plot(np.arange(output_relu[\"iterations\"]), output_relu[\"errors\"], color = \"red\")\n",
    "ax7.set_ylim([0, 0.6])\n",
    "\n",
    "ax8.plot(np.arange(output_softplus[\"iterations\"]), output_softplus[\"errors\"], color = \"red\")\n",
    "ax8.set_ylim([0, 0.6])\n",
    "\n",
    "fig.legend([l1, l2],[\"Accuracy\", \"MSE\"], loc = 1)\n",
    "\n",
    "fig.savefig(\"gradient-descent.png\")"
   ]
  }
 ],
 "metadata": {
  "kernelspec": {
   "display_name": "Python 3",
   "language": "python",
   "name": "python3"
  },
  "language_info": {
   "codemirror_mode": {
    "name": "ipython",
    "version": 3
   },
   "file_extension": ".py",
   "mimetype": "text/x-python",
   "name": "python",
   "nbconvert_exporter": "python",
   "pygments_lexer": "ipython3",
   "version": "3.7.3"
  }
 },
 "nbformat": 4,
 "nbformat_minor": 2
}
